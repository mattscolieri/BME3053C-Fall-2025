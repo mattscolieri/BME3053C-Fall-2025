{
  "cells": [
    {
      "cell_type": "markdown",
      "metadata": {
        "id": "view-in-github",
        "colab_type": "text"
      },
      "source": [
        "<a href=\"https://colab.research.google.com/github/mattscolieri/BME3053C-Fall-2025/blob/main/study-guides/midterm-study-guide_10.26.25.ipynb\" target=\"_parent\"><img src=\"https://colab.research.google.com/assets/colab-badge.svg\" alt=\"Open In Colab\"/></a>"
      ]
    },
    {
      "cell_type": "markdown",
      "id": "456796a4",
      "metadata": {
        "id": "456796a4"
      },
      "source": [
        "# BME3053C Midterm Study Guide\n",
        "\n",
        "This Jupyter Notebook provides practice problems covering concepts included in the midterm.\n",
        "\n",
        "- Conditionals (if/elif/else)\n",
        "- Boolean logic\n",
        "- Type conversion\n",
        "- Loops (for/while)\n",
        "- List slicing\n",
        "- References and mutability\n",
        "- Functions and Variable scope\n",
        "- NumPy array operations (basic arithmetic, broadcasting)\n",
        "- Pandas Conditionals\n",
        "- Indexing and Iteration in Pandas\n",
        "- Matrix Transformations\n",
        "\n",
        "Try each code snippet, predict the output, and then run the code to confirm your understanding.\n",
        "\n",
        "### Original Lesson Link: [![Open In Colab](https://colab.research.google.com/assets/colab-badge.svg)](https://colab.research.google.com/github/uf-bme/BME3053C-Fall-2025/blob/main/study-guides/midterm-study-guide.ipynb)\n"
      ]
    },
    {
      "cell_type": "markdown",
      "id": "056fa50a",
      "metadata": {
        "id": "056fa50a"
      },
      "source": [
        "## Tips to Succeed\n",
        "\n",
        "- Don't rush through the problems! Pay close attention to the syntax in each code cell (especially in print statements).\n",
        "- Try tweaking the code cells in this notebook to see how changes affect the output. Write down your predictions and the modified code on paper before running it.\n",
        "- Review the output and compare it with your predictions to reinforce your understanding.\n"
      ]
    },
    {
      "cell_type": "markdown",
      "id": "adfb1d07",
      "metadata": {
        "id": "adfb1d07"
      },
      "source": [
        "## Conditionals and Boolean Logic\n",
        "\n",
        "- Conditionals allow you to execute different blocks of code based on certain conditions.\n",
        "\n",
        "#### Multiple Conditionals in a Single Statement\n",
        "\n",
        "- You can combine multiple conditions in a single `if`, `elif`, or `else` statement\n",
        "- Boolean logic helps in combining multiple conditions using logical operators like `and`, `or`, and `not`.\n",
        "- When using `and`, the condition will only be true if both conditions are true.\n",
        "- When using `or`, the condition will be true if at least one of the conditions is true.\n",
        "- Parentheses will help ensure the condition is evaluated in the order you want.\n",
        "\n",
        "#### Practice\n",
        "\n",
        "Predict the prints, then run the cells below to check.\n"
      ]
    },
    {
      "cell_type": "code",
      "execution_count": null,
      "id": "33be82e7",
      "metadata": {
        "id": "33be82e7",
        "outputId": "19e579e7-4a9e-443f-9eaa-82f761451feb",
        "colab": {
          "base_uri": "https://localhost:8080/"
        }
      },
      "outputs": [
        {
          "output_type": "stream",
          "name": "stdout",
          "text": [
            "Case 2\n",
            "Done\n"
          ]
        }
      ],
      "source": [
        "x = 6\n",
        "y = 3\n",
        "\n",
        "if x > 5 and y < 3:\n",
        "    print(\"Case 1\")\n",
        "elif x == 6 or y == 4:\n",
        "    print(\"Case 2\")\n",
        "else:\n",
        "    print(\"Case 3\")\n",
        "print(\"Done\")"
      ]
    },
    {
      "cell_type": "code",
      "execution_count": null,
      "id": "1381f8d7",
      "metadata": {
        "id": "1381f8d7",
        "outputId": "163b678e-a4ec-481a-bb64-9a0d74738b04",
        "colab": {
          "base_uri": "https://localhost:8080/"
        }
      },
      "outputs": [
        {
          "output_type": "stream",
          "name": "stdout",
          "text": [
            "Condition 3\n",
            "Done\n"
          ]
        }
      ],
      "source": [
        "a = 10\n",
        "b = 9\n",
        "c = 7\n",
        "\n",
        "if (a > b) and (b < c):\n",
        "    print(\"Condition 1\")\n",
        "elif (b > a) or (b < c):\n",
        "    print(\"Condition 2\")\n",
        "else:\n",
        "    print(\"Condition 3\")\n",
        "print(\"Done\")"
      ]
    },
    {
      "cell_type": "markdown",
      "id": "472f4229",
      "metadata": {
        "id": "472f4229"
      },
      "source": [
        "## Type Conversion\n",
        "\n",
        "- Type conversion is the process of converting one data type to another.\n",
        "- This is useful when you need to convert data from one type to another.\n",
        "- The `int()`, `str()`, and `float()` functions are commonly used for type conversion.\n",
        "\n",
        "**On the test, you could just write int or float. You wouldn't need to write <class 'int'> or <class 'float'>**\n",
        "\n",
        "**Task:** Understand how to convert between different data types using `int()`, `str()`, and `float()` functions.\n"
      ]
    },
    {
      "cell_type": "code",
      "execution_count": null,
      "id": "7b6edcec",
      "metadata": {
        "id": "7b6edcec",
        "outputId": "59fc2b70-0f97-4987-ada7-4ece826a7174",
        "colab": {
          "base_uri": "https://localhost:8080/"
        }
      },
      "outputs": [
        {
          "output_type": "stream",
          "name": "stdout",
          "text": [
            "num_str\n",
            "123 <class 'int'>\n",
            "12 <class 'int'>\n",
            "True <class 'str'>\n"
          ]
        }
      ],
      "source": [
        "num_str = \"123\"\n",
        "\n",
        "print(\"num_str\")\n",
        "\n",
        "\n",
        "num_int = int(num_str)\n",
        "print(num_int, type(num_int))\n",
        "\n",
        "\n",
        "\n",
        "float_num = 12.34\n",
        "int_num = int(float_num)\n",
        "print(int_num, type(int_num))\n",
        "\n",
        "bool_val = True\n",
        "str_bool = str(bool_val)\n",
        "print(str_bool, type(str_bool))\n"
      ]
    },
    {
      "cell_type": "markdown",
      "id": "787ba37c",
      "metadata": {
        "id": "787ba37c"
      },
      "source": [
        "## For Loops\n",
        "\n",
        "- A for loop is used to iterate over a sequence (such as a list, tuple, dictionary, set, or string).\n",
        "- The range() function is commonly used with for loops to generate a sequence of numbers.\n",
        "- The `range()` function can take 1, 2, or 3 arguments:\n",
        "  - `range(stop)`: generates numbers from 0 to stop-1\n",
        "  - `range(start, stop)`: generates numbers from start to stop-1\n",
        "  - `range(start, stop, step)`: generates numbers from start to stop-1, incrementing by step\n",
        "\n",
        "### Prompt\n",
        "\n",
        "```python\n",
        "total_sum = 0\n",
        "for i in range(3, 8):  # 3, 4, 5, 6, 7\n",
        "    total_sum += i\n",
        "print(total_sum)\n",
        "```\n",
        "\n",
        "**Task:** Predict the final value of `total_sum`.\n"
      ]
    },
    {
      "cell_type": "code",
      "execution_count": null,
      "id": "09b99306",
      "metadata": {
        "id": "09b99306",
        "outputId": "8320922a-55bc-4939-931b-216efddf2a55",
        "colab": {
          "base_uri": "https://localhost:8080/"
        }
      },
      "outputs": [
        {
          "output_type": "stream",
          "name": "stdout",
          "text": [
            "i= 3 total_sum= 0\n",
            "i= 5 total_sum= 3\n",
            "8\n"
          ]
        }
      ],
      "source": [
        "total_sum = 0\n",
        "for i in range(3, 6,2):\n",
        "    print('i=',i,'total_sum=',total_sum)\n",
        "    total_sum += i\n",
        "\n",
        "print(total_sum)"
      ]
    },
    {
      "cell_type": "markdown",
      "id": "u89qHhIUOvqd",
      "metadata": {
        "id": "u89qHhIUOvqd"
      },
      "source": [
        "### Continue and Break Statements\n",
        "\n",
        "- **Break Statement in Python:**\n",
        "\n",
        "  - Immediately exits the loop when executed.\n",
        "  - Useful when a certain condition is met and no further iterations are needed.\n",
        "  - Example:\n",
        "    ```python\n",
        "    for num in range(10):\n",
        "        if num == 5:\n",
        "            break  # Exit the loop\n",
        "        print(num)\n",
        "    ```\n",
        "\n",
        "- **Continue Statement in Python:**\n",
        "  - Skips the rest of the code in the current loop iteration.\n",
        "  - Proceeds directly to the next iteration of the loop.\n",
        "  - Example:\n",
        "    ```python\n",
        "    for num in range(10):\n",
        "        if num % 2 == 0:\n",
        "            continue  # Skip even numbers\n",
        "        print(num)\n",
        "    ```\n"
      ]
    },
    {
      "cell_type": "code",
      "execution_count": null,
      "id": "cw424PlZOTO0",
      "metadata": {
        "id": "cw424PlZOTO0",
        "outputId": "24c735ae-55cb-48da-95a0-9ee9ed842050",
        "colab": {
          "base_uri": "https://localhost:8080/"
        }
      },
      "outputs": [
        {
          "output_type": "stream",
          "name": "stdout",
          "text": [
            "i= 6\n",
            "i= 8\n",
            "final 8\n"
          ]
        }
      ],
      "source": [
        "for i in range(2,10,2):\n",
        "  if i < 6:\n",
        "    continue\n",
        "  print('i=',i)\n",
        "print('final',i)"
      ]
    },
    {
      "cell_type": "code",
      "execution_count": null,
      "id": "j57DwerpM_bT",
      "metadata": {
        "id": "j57DwerpM_bT",
        "outputId": "bedbe0cb-5c16-466a-f638-fb76c2f83a8a",
        "colab": {
          "base_uri": "https://localhost:8080/"
        }
      },
      "outputs": [
        {
          "output_type": "stream",
          "name": "stdout",
          "text": [
            "1 1\n",
            "final 4 1\n"
          ]
        }
      ],
      "source": [
        "total_sum = 0\n",
        "for i in range(1, 7,3):\n",
        "    if i == 4:\n",
        "      continue\n",
        "    if i > 5:\n",
        "      break\n",
        "    total_sum += i\n",
        "    print(i,total_sum)\n",
        "\n",
        "print('final',i,total_sum)\n"
      ]
    },
    {
      "cell_type": "markdown",
      "id": "444dd591",
      "metadata": {
        "id": "444dd591"
      },
      "source": [
        "## While Loops\n",
        "\n",
        "- A while loop is used to execute a block of code repeatedly as long as a condition is true.\n",
        "- The condition is evaluated before each iteration of the loop.\n",
        "\n",
        "**Task:** Observe how the loop increments `count` and prints when `count == 2`.\n"
      ]
    },
    {
      "cell_type": "code",
      "execution_count": null,
      "id": "1445657a",
      "metadata": {
        "id": "1445657a",
        "outputId": "6151605a-d1be-403c-dad2-9f22063ab532",
        "colab": {
          "base_uri": "https://localhost:8080/"
        }
      },
      "outputs": [
        {
          "output_type": "stream",
          "name": "stdout",
          "text": [
            "count2= 3\n",
            "Final count: 5\n",
            "Final count2: 6\n"
          ]
        }
      ],
      "source": [
        "count = 0\n",
        "count2 = 0\n",
        "\n",
        "while count < 5:\n",
        "    count2+=1\n",
        "    if count == 2:\n",
        "        print(\"count2=\",count2)\n",
        "        count2+=1\n",
        "    count += 1\n",
        "\n",
        "print(\"Final count:\", count)\n",
        "print(\"Final count2:\",count2)"
      ]
    },
    {
      "cell_type": "markdown",
      "id": "41861314",
      "metadata": {
        "id": "41861314"
      },
      "source": [
        "## List Slicing\n",
        "\n",
        "- List slicing allows you to extract a portion of a list.\n",
        "- The syntax is `list[start:stop:step]`.\n",
        "- The start index is **inclusive**, the stop index is **exclusive**\n",
        "- Negative indices can be used to slice from the end of the list.\n",
        "- The step can be negative to reverse the order of the slice.\n"
      ]
    },
    {
      "cell_type": "code",
      "execution_count": null,
      "id": "528ab2f1",
      "metadata": {
        "id": "528ab2f1"
      },
      "outputs": [],
      "source": [
        "nums = [10, 20, 30, 40, 50, 60]"
      ]
    },
    {
      "cell_type": "code",
      "execution_count": null,
      "id": "3dce214e",
      "metadata": {
        "id": "3dce214e",
        "outputId": "cac891e6-82c2-48a0-d0ff-9eb955f4f5f6",
        "colab": {
          "base_uri": "https://localhost:8080/"
        }
      },
      "outputs": [
        {
          "output_type": "stream",
          "name": "stdout",
          "text": [
            "nums[2:] => [30, 40, 50, 60]\n"
          ]
        }
      ],
      "source": [
        "print(\"nums[2:] =>\", nums[2:])"
      ]
    },
    {
      "cell_type": "code",
      "execution_count": null,
      "id": "4bda654f",
      "metadata": {
        "id": "4bda654f",
        "outputId": "a3b93181-ef65-4e88-b563-ccd71e88f989",
        "colab": {
          "base_uri": "https://localhost:8080/"
        }
      },
      "outputs": [
        {
          "output_type": "stream",
          "name": "stdout",
          "text": [
            "nums[:3] => [10, 20, 30]\n"
          ]
        }
      ],
      "source": [
        "print(\"nums[:3] =>\", nums[:3])"
      ]
    },
    {
      "cell_type": "code",
      "execution_count": null,
      "id": "dad454c8",
      "metadata": {
        "id": "dad454c8",
        "outputId": "7ea0a869-edd3-4408-eaeb-3dd54ed1dd17",
        "colab": {
          "base_uri": "https://localhost:8080/"
        }
      },
      "outputs": [
        {
          "output_type": "stream",
          "name": "stdout",
          "text": [
            "nums[1:5:2] => [20, 40]\n"
          ]
        }
      ],
      "source": [
        "print(\"nums[1:5:2] =>\", nums[1:5:2])"
      ]
    },
    {
      "cell_type": "code",
      "execution_count": null,
      "id": "7f624ced",
      "metadata": {
        "id": "7f624ced",
        "outputId": "c27da009-f573-4d4b-da4c-13ee43b529fd",
        "colab": {
          "base_uri": "https://localhost:8080/"
        }
      },
      "outputs": [
        {
          "output_type": "stream",
          "name": "stdout",
          "text": [
            "nums[1:4] => [20, 30, 40]\n"
          ]
        }
      ],
      "source": [
        "print(\"nums[1:4] =>\", nums[1:4])"
      ]
    },
    {
      "cell_type": "code",
      "execution_count": null,
      "id": "f5b226bb",
      "metadata": {
        "id": "f5b226bb",
        "outputId": "12182844-a66e-4ef7-c68a-249544f96cd4",
        "colab": {
          "base_uri": "https://localhost:8080/"
        }
      },
      "outputs": [
        {
          "output_type": "stream",
          "name": "stdout",
          "text": [
            "nums[-3:-1:1] => [40, 50]\n"
          ]
        }
      ],
      "source": [
        "print(\"nums[-3:-1:1] =>\", nums[-3:-1:1])"
      ]
    },
    {
      "cell_type": "code",
      "execution_count": null,
      "id": "e39f1078",
      "metadata": {
        "id": "e39f1078",
        "outputId": "eb7dd2a0-7beb-4fda-8e29-ad5c5cab67bb",
        "colab": {
          "base_uri": "https://localhost:8080/"
        }
      },
      "outputs": [
        {
          "output_type": "stream",
          "name": "stdout",
          "text": [
            "nums[-3:1:-1] => [40, 30]\n"
          ]
        }
      ],
      "source": [
        "print(\"nums[-3:1:-1] =>\", nums[-3:1:-1])"
      ]
    },
    {
      "cell_type": "markdown",
      "id": "07b3408b",
      "metadata": {
        "id": "07b3408b"
      },
      "source": [
        "## References & Mutability\n",
        "\n",
        "- Lists are mutable, meaning their contents can be changed after they are created.\n",
        "- When a list is assigned to a new variable, the new variable references the same list.\n",
        "\n",
        "**Task:** Understand how inserting into `another_ref` also affects `a_list` because both point to the same list.\n"
      ]
    },
    {
      "cell_type": "code",
      "execution_count": 1,
      "id": "2a6e01d0",
      "metadata": {
        "id": "2a6e01d0",
        "outputId": "4081984a-fbe7-41a7-987a-eaad8a2fdb49",
        "colab": {
          "base_uri": "https://localhost:8080/"
        }
      },
      "outputs": [
        {
          "output_type": "stream",
          "name": "stdout",
          "text": [
            "a_list = [5, 6, 10]\n",
            "another_ref = [5, 6, 10]\n"
          ]
        }
      ],
      "source": [
        "a_list = [5, 6]\n",
        "another_ref = a_list\n",
        "another_ref.append(10)\n",
        "\n",
        "print(\"a_list =\", a_list)\n",
        "print(\"another_ref =\", another_ref)"
      ]
    },
    {
      "cell_type": "code",
      "execution_count": 2,
      "id": "121f2583",
      "metadata": {
        "id": "121f2583",
        "outputId": "20522b06-1333-4f47-9f2f-405ce9d192e9",
        "colab": {
          "base_uri": "https://localhost:8080/"
        }
      },
      "outputs": [
        {
          "output_type": "stream",
          "name": "stdout",
          "text": [
            "a_list = [5, 6]\n",
            "another_ref = [5, 6, 10]\n"
          ]
        }
      ],
      "source": [
        "import copy\n",
        "a_list = [5, 6]\n",
        "another_ref = copy.deepcopy(a_list)\n",
        "another_ref.append(10)\n",
        "\n",
        "print(\"a_list =\", a_list)\n",
        "print(\"another_ref =\", another_ref)"
      ]
    },
    {
      "cell_type": "markdown",
      "id": "4e7db033",
      "metadata": {
        "id": "4e7db033"
      },
      "source": [
        "## Variable Scope\n",
        "\n",
        "Variable scope refers to the context in which a variable is defined and accessible. In Python, there are two main types of variable scope:\n",
        "\n",
        "1. **Global Scope**: Variables defined outside of any function or block, accessible throughout the entire script.\n",
        "2. **Local Scope**: Variables defined within a function or block, accessible only within that function or block.\n",
        "\n",
        "Understanding variable scope is crucial for avoiding naming conflicts and ensuring that variables are used correctly within their intended context.\n",
        "\n",
        "**Task:** Notice how `my_var` inside the function is not the same as the **global** `my_var`.\n"
      ]
    },
    {
      "cell_type": "code",
      "execution_count": 3,
      "id": "ebbeaf06",
      "metadata": {
        "id": "ebbeaf06",
        "outputId": "831c5cb7-c7a5-4c82-8dc9-c7ca3a969927",
        "colab": {
          "base_uri": "https://localhost:8080/"
        }
      },
      "outputs": [
        {
          "output_type": "stream",
          "name": "stdout",
          "text": [
            "my_var = 100\n",
            "result = 10\n"
          ]
        }
      ],
      "source": [
        "my_var = 100\n",
        "def multiply_by_two(x):\n",
        "    my_var = x * 2\n",
        "    return my_var\n",
        "\n",
        "result = multiply_by_two(5)\n",
        "print(\"my_var =\", my_var)\n",
        "print(\"result =\", result)"
      ]
    },
    {
      "cell_type": "markdown",
      "id": "5b772d93",
      "metadata": {
        "id": "5b772d93"
      },
      "source": [
        "## Function Parameters and Return Values\n",
        "\n",
        "- When working with functions, it's important to understand how return values and variable scope work.\n",
        "- In the example below, the function `add_two_numbers` is supposed to return the sum of two numbers, but it currently returns x.\n",
        "\n",
        "**Task:** Evaluate the importance of return values in the function `add_two_numbers`.\n"
      ]
    },
    {
      "cell_type": "code",
      "execution_count": 12,
      "id": "b5e51643",
      "metadata": {
        "id": "b5e51643"
      },
      "outputs": [],
      "source": [
        "\n",
        "def add_two_numbers(x,y=0):\n",
        "    local_var = x + y\n",
        "    return x + y\n"
      ]
    },
    {
      "cell_type": "code",
      "execution_count": 8,
      "id": "d201638a",
      "metadata": {
        "id": "d201638a",
        "outputId": "4f572edc-511a-4924-d86e-15e053f7cc21",
        "colab": {
          "base_uri": "https://localhost:8080/"
        }
      },
      "outputs": [
        {
          "output_type": "stream",
          "name": "stdout",
          "text": [
            "12\n"
          ]
        }
      ],
      "source": [
        "var1 = 7\n",
        "\n",
        "var2 = add_two_numbers(5)\n",
        "\n",
        "var3 = var1+var2\n",
        "print(var3)"
      ]
    },
    {
      "cell_type": "code",
      "execution_count": 13,
      "id": "99defecd",
      "metadata": {
        "id": "99defecd",
        "outputId": "d476616e-55d8-49e3-a4c5-818b036ef952",
        "colab": {
          "base_uri": "https://localhost:8080/"
        }
      },
      "outputs": [
        {
          "output_type": "stream",
          "name": "stdout",
          "text": [
            "14\n"
          ]
        }
      ],
      "source": [
        "var1 = 7\n",
        "\n",
        "var2 = add_two_numbers(3,4)\n",
        "\n",
        "var3 = var1+var2\n",
        "print(var3)"
      ]
    },
    {
      "cell_type": "markdown",
      "id": "218c07b3",
      "metadata": {
        "id": "218c07b3"
      },
      "source": [
        "## NumPy: Basic Arithmetic & Broadcasting\n",
        "\n",
        "- NumPy arrays support element-wise arithmetic operations like addition, subtraction, multiplication, and division.\n",
        "- You can perform operations between arrays and scalars, or between arrays of compatible shapes.\n",
        "- The `@` operator is used for matrix multiplication, while `*` performs element-wise multiplication.\n",
        "- Broadcasting is a feature of NumPy that allows for element-wise operations between arrays of different shapes.\n",
        "\n",
        "**Task:** Practice element-wise operations.\\*\\*\n"
      ]
    },
    {
      "cell_type": "code",
      "execution_count": 14,
      "id": "22cd4fe5",
      "metadata": {
        "id": "22cd4fe5",
        "outputId": "ea9ae245-7022-49bd-b998-041e84532b7a",
        "colab": {
          "base_uri": "https://localhost:8080/"
        }
      },
      "outputs": [
        {
          "output_type": "stream",
          "name": "stdout",
          "text": [
            "x_mat:\n",
            "[[4 5 6]\n",
            " [1 2 3]\n",
            " [7 8 9]]\n",
            "\n",
            "y_mat:\n",
            "[[1 2 3]\n",
            " [4 5 6]\n",
            " [4 6 8]]\n"
          ]
        }
      ],
      "source": [
        "import numpy as np\n",
        "x_mat = np.array([[4, 5, 6], [1, 2, 3],[7, 8, 9]])\n",
        "y_mat = np.array([[1, 2, 3], [4, 5, 6],[4, 6, 8]])\n",
        "print('x_mat:')\n",
        "print(x_mat)\n",
        "print()\n",
        "print('y_mat:')\n",
        "print(y_mat)"
      ]
    },
    {
      "cell_type": "code",
      "execution_count": 15,
      "id": "4b5caf36",
      "metadata": {
        "id": "4b5caf36",
        "outputId": "5c40c824-1837-439f-c76a-181b0c8f36f0",
        "colab": {
          "base_uri": "https://localhost:8080/"
        }
      },
      "outputs": [
        {
          "output_type": "stream",
          "name": "stdout",
          "text": [
            "[[ 8 10 12]\n",
            " [ 2  4  6]\n",
            " [14 16 18]]\n"
          ]
        }
      ],
      "source": [
        "print(x_mat * 2)"
      ]
    },
    {
      "cell_type": "code",
      "execution_count": 16,
      "id": "36d8a038",
      "metadata": {
        "id": "36d8a038",
        "outputId": "166a7a5e-41b9-43a3-8d19-d28d883575ce",
        "colab": {
          "base_uri": "https://localhost:8080/"
        }
      },
      "outputs": [
        {
          "output_type": "stream",
          "name": "stdout",
          "text": [
            "[[ 5  7  9]\n",
            " [ 5  7  9]\n",
            " [11 14 17]]\n"
          ]
        }
      ],
      "source": [
        "print(x_mat + y_mat)"
      ]
    },
    {
      "cell_type": "code",
      "execution_count": 17,
      "id": "b2fc018b",
      "metadata": {
        "id": "b2fc018b",
        "outputId": "73b6c64f-e4b1-4274-a6bd-e5e93f4dce4e",
        "colab": {
          "base_uri": "https://localhost:8080/"
        }
      },
      "outputs": [
        {
          "output_type": "stream",
          "name": "stdout",
          "text": [
            "[[ 4 10 18]\n",
            " [ 4 10 18]\n",
            " [28 48 72]]\n"
          ]
        }
      ],
      "source": [
        "print(x_mat * y_mat)"
      ]
    },
    {
      "cell_type": "code",
      "execution_count": 18,
      "id": "11377ece",
      "metadata": {
        "id": "11377ece",
        "outputId": "c240741c-82e6-4f39-91e4-328764cb57b7",
        "colab": {
          "base_uri": "https://localhost:8080/"
        }
      },
      "outputs": [
        {
          "output_type": "stream",
          "name": "stdout",
          "text": [
            "[[ 4 10 18]\n",
            " [ 4 10 18]\n",
            " [28 48 72]]\n"
          ]
        }
      ],
      "source": [
        "print(y_mat * x_mat)"
      ]
    },
    {
      "cell_type": "code",
      "execution_count": 19,
      "id": "3575678d",
      "metadata": {
        "id": "3575678d",
        "outputId": "fb9bdb53-cefa-4458-f915-f44a407236a2",
        "colab": {
          "base_uri": "https://localhost:8080/"
        }
      },
      "outputs": [
        {
          "output_type": "stream",
          "name": "stdout",
          "text": [
            "[[ 48  69  90]\n",
            " [ 21  30  39]\n",
            " [ 75 108 141]]\n"
          ]
        }
      ],
      "source": [
        "print(x_mat @ y_mat)"
      ]
    },
    {
      "cell_type": "code",
      "execution_count": 20,
      "id": "b8424a41",
      "metadata": {
        "id": "b8424a41",
        "outputId": "bd6cb2f9-7664-4382-91e6-8ec88a86f139",
        "colab": {
          "base_uri": "https://localhost:8080/"
        }
      },
      "outputs": [
        {
          "output_type": "stream",
          "name": "stdout",
          "text": [
            "[[ 27  33  39]\n",
            " [ 63  78  93]\n",
            " [ 78  96 114]]\n"
          ]
        }
      ],
      "source": [
        "print(y_mat @ x_mat)"
      ]
    },
    {
      "cell_type": "markdown",
      "id": "4a08cb51",
      "metadata": {
        "id": "4a08cb51"
      },
      "source": [
        "# Filtering data with conditionals in Pandas\n",
        "\n",
        "Pandas makes it easy to select, analyze, and process subsets of your data based on some condition `C`. This is accomplished with easily understandable syntax: `df[C]` will return a subset of DataFrame `df` that **matches** the condition `C` listed inside brackets `[]`.\n",
        "\n",
        "- we can create filtering criteria using familiar mathematical operators that were used in Python conditionals.\n",
        "\n",
        "**You will only need to write the indices of the rows that would be included in each condition**\n"
      ]
    },
    {
      "cell_type": "code",
      "execution_count": 22,
      "id": "972c6cc3",
      "metadata": {
        "id": "972c6cc3"
      },
      "outputs": [],
      "source": [
        "import pandas as pd\n",
        "import numpy as np\n",
        "\n",
        "# Create a new dataframe with 5 rows and 3 columns\n",
        "df = pd.DataFrame({\n",
        "    'Species': ['cat', 'dog', 'bird', 'cat', 'dog'],\n",
        "    'Age': [13,11,18,18,8],\n",
        "    'Weight': [13.3,32.4,2.4,19.3, 64.1],\n",
        "})\n"
      ]
    },
    {
      "cell_type": "code",
      "execution_count": 23,
      "id": "4f51e14a",
      "metadata": {
        "id": "4f51e14a",
        "outputId": "be7a60ed-60c6-4e7a-bb61-74ad904443a8",
        "colab": {
          "base_uri": "https://localhost:8080/",
          "height": 206
        }
      },
      "outputs": [
        {
          "output_type": "execute_result",
          "data": {
            "text/plain": [
              "  Species  Age  Weight\n",
              "0     cat   13    13.3\n",
              "1     dog   11    32.4\n",
              "2    bird   18     2.4\n",
              "3     cat   18    19.3\n",
              "4     dog    8    64.1"
            ],
            "text/html": [
              "\n",
              "  <div id=\"df-6b78c8ca-8d1d-4ba6-a1e7-f61eff954b45\" class=\"colab-df-container\">\n",
              "    <div>\n",
              "<style scoped>\n",
              "    .dataframe tbody tr th:only-of-type {\n",
              "        vertical-align: middle;\n",
              "    }\n",
              "\n",
              "    .dataframe tbody tr th {\n",
              "        vertical-align: top;\n",
              "    }\n",
              "\n",
              "    .dataframe thead th {\n",
              "        text-align: right;\n",
              "    }\n",
              "</style>\n",
              "<table border=\"1\" class=\"dataframe\">\n",
              "  <thead>\n",
              "    <tr style=\"text-align: right;\">\n",
              "      <th></th>\n",
              "      <th>Species</th>\n",
              "      <th>Age</th>\n",
              "      <th>Weight</th>\n",
              "    </tr>\n",
              "  </thead>\n",
              "  <tbody>\n",
              "    <tr>\n",
              "      <th>0</th>\n",
              "      <td>cat</td>\n",
              "      <td>13</td>\n",
              "      <td>13.3</td>\n",
              "    </tr>\n",
              "    <tr>\n",
              "      <th>1</th>\n",
              "      <td>dog</td>\n",
              "      <td>11</td>\n",
              "      <td>32.4</td>\n",
              "    </tr>\n",
              "    <tr>\n",
              "      <th>2</th>\n",
              "      <td>bird</td>\n",
              "      <td>18</td>\n",
              "      <td>2.4</td>\n",
              "    </tr>\n",
              "    <tr>\n",
              "      <th>3</th>\n",
              "      <td>cat</td>\n",
              "      <td>18</td>\n",
              "      <td>19.3</td>\n",
              "    </tr>\n",
              "    <tr>\n",
              "      <th>4</th>\n",
              "      <td>dog</td>\n",
              "      <td>8</td>\n",
              "      <td>64.1</td>\n",
              "    </tr>\n",
              "  </tbody>\n",
              "</table>\n",
              "</div>\n",
              "    <div class=\"colab-df-buttons\">\n",
              "\n",
              "  <div class=\"colab-df-container\">\n",
              "    <button class=\"colab-df-convert\" onclick=\"convertToInteractive('df-6b78c8ca-8d1d-4ba6-a1e7-f61eff954b45')\"\n",
              "            title=\"Convert this dataframe to an interactive table.\"\n",
              "            style=\"display:none;\">\n",
              "\n",
              "  <svg xmlns=\"http://www.w3.org/2000/svg\" height=\"24px\" viewBox=\"0 -960 960 960\">\n",
              "    <path d=\"M120-120v-720h720v720H120Zm60-500h600v-160H180v160Zm220 220h160v-160H400v160Zm0 220h160v-160H400v160ZM180-400h160v-160H180v160Zm440 0h160v-160H620v160ZM180-180h160v-160H180v160Zm440 0h160v-160H620v160Z\"/>\n",
              "  </svg>\n",
              "    </button>\n",
              "\n",
              "  <style>\n",
              "    .colab-df-container {\n",
              "      display:flex;\n",
              "      gap: 12px;\n",
              "    }\n",
              "\n",
              "    .colab-df-convert {\n",
              "      background-color: #E8F0FE;\n",
              "      border: none;\n",
              "      border-radius: 50%;\n",
              "      cursor: pointer;\n",
              "      display: none;\n",
              "      fill: #1967D2;\n",
              "      height: 32px;\n",
              "      padding: 0 0 0 0;\n",
              "      width: 32px;\n",
              "    }\n",
              "\n",
              "    .colab-df-convert:hover {\n",
              "      background-color: #E2EBFA;\n",
              "      box-shadow: 0px 1px 2px rgba(60, 64, 67, 0.3), 0px 1px 3px 1px rgba(60, 64, 67, 0.15);\n",
              "      fill: #174EA6;\n",
              "    }\n",
              "\n",
              "    .colab-df-buttons div {\n",
              "      margin-bottom: 4px;\n",
              "    }\n",
              "\n",
              "    [theme=dark] .colab-df-convert {\n",
              "      background-color: #3B4455;\n",
              "      fill: #D2E3FC;\n",
              "    }\n",
              "\n",
              "    [theme=dark] .colab-df-convert:hover {\n",
              "      background-color: #434B5C;\n",
              "      box-shadow: 0px 1px 3px 1px rgba(0, 0, 0, 0.15);\n",
              "      filter: drop-shadow(0px 1px 2px rgba(0, 0, 0, 0.3));\n",
              "      fill: #FFFFFF;\n",
              "    }\n",
              "  </style>\n",
              "\n",
              "    <script>\n",
              "      const buttonEl =\n",
              "        document.querySelector('#df-6b78c8ca-8d1d-4ba6-a1e7-f61eff954b45 button.colab-df-convert');\n",
              "      buttonEl.style.display =\n",
              "        google.colab.kernel.accessAllowed ? 'block' : 'none';\n",
              "\n",
              "      async function convertToInteractive(key) {\n",
              "        const element = document.querySelector('#df-6b78c8ca-8d1d-4ba6-a1e7-f61eff954b45');\n",
              "        const dataTable =\n",
              "          await google.colab.kernel.invokeFunction('convertToInteractive',\n",
              "                                                    [key], {});\n",
              "        if (!dataTable) return;\n",
              "\n",
              "        const docLinkHtml = 'Like what you see? Visit the ' +\n",
              "          '<a target=\"_blank\" href=https://colab.research.google.com/notebooks/data_table.ipynb>data table notebook</a>'\n",
              "          + ' to learn more about interactive tables.';\n",
              "        element.innerHTML = '';\n",
              "        dataTable['output_type'] = 'display_data';\n",
              "        await google.colab.output.renderOutput(dataTable, element);\n",
              "        const docLink = document.createElement('div');\n",
              "        docLink.innerHTML = docLinkHtml;\n",
              "        element.appendChild(docLink);\n",
              "      }\n",
              "    </script>\n",
              "  </div>\n",
              "\n",
              "\n",
              "    <div id=\"df-8bacb8a3-f55d-4664-8b4b-e3e2b00da6df\">\n",
              "      <button class=\"colab-df-quickchart\" onclick=\"quickchart('df-8bacb8a3-f55d-4664-8b4b-e3e2b00da6df')\"\n",
              "                title=\"Suggest charts\"\n",
              "                style=\"display:none;\">\n",
              "\n",
              "<svg xmlns=\"http://www.w3.org/2000/svg\" height=\"24px\"viewBox=\"0 0 24 24\"\n",
              "     width=\"24px\">\n",
              "    <g>\n",
              "        <path d=\"M19 3H5c-1.1 0-2 .9-2 2v14c0 1.1.9 2 2 2h14c1.1 0 2-.9 2-2V5c0-1.1-.9-2-2-2zM9 17H7v-7h2v7zm4 0h-2V7h2v10zm4 0h-2v-4h2v4z\"/>\n",
              "    </g>\n",
              "</svg>\n",
              "      </button>\n",
              "\n",
              "<style>\n",
              "  .colab-df-quickchart {\n",
              "      --bg-color: #E8F0FE;\n",
              "      --fill-color: #1967D2;\n",
              "      --hover-bg-color: #E2EBFA;\n",
              "      --hover-fill-color: #174EA6;\n",
              "      --disabled-fill-color: #AAA;\n",
              "      --disabled-bg-color: #DDD;\n",
              "  }\n",
              "\n",
              "  [theme=dark] .colab-df-quickchart {\n",
              "      --bg-color: #3B4455;\n",
              "      --fill-color: #D2E3FC;\n",
              "      --hover-bg-color: #434B5C;\n",
              "      --hover-fill-color: #FFFFFF;\n",
              "      --disabled-bg-color: #3B4455;\n",
              "      --disabled-fill-color: #666;\n",
              "  }\n",
              "\n",
              "  .colab-df-quickchart {\n",
              "    background-color: var(--bg-color);\n",
              "    border: none;\n",
              "    border-radius: 50%;\n",
              "    cursor: pointer;\n",
              "    display: none;\n",
              "    fill: var(--fill-color);\n",
              "    height: 32px;\n",
              "    padding: 0;\n",
              "    width: 32px;\n",
              "  }\n",
              "\n",
              "  .colab-df-quickchart:hover {\n",
              "    background-color: var(--hover-bg-color);\n",
              "    box-shadow: 0 1px 2px rgba(60, 64, 67, 0.3), 0 1px 3px 1px rgba(60, 64, 67, 0.15);\n",
              "    fill: var(--button-hover-fill-color);\n",
              "  }\n",
              "\n",
              "  .colab-df-quickchart-complete:disabled,\n",
              "  .colab-df-quickchart-complete:disabled:hover {\n",
              "    background-color: var(--disabled-bg-color);\n",
              "    fill: var(--disabled-fill-color);\n",
              "    box-shadow: none;\n",
              "  }\n",
              "\n",
              "  .colab-df-spinner {\n",
              "    border: 2px solid var(--fill-color);\n",
              "    border-color: transparent;\n",
              "    border-bottom-color: var(--fill-color);\n",
              "    animation:\n",
              "      spin 1s steps(1) infinite;\n",
              "  }\n",
              "\n",
              "  @keyframes spin {\n",
              "    0% {\n",
              "      border-color: transparent;\n",
              "      border-bottom-color: var(--fill-color);\n",
              "      border-left-color: var(--fill-color);\n",
              "    }\n",
              "    20% {\n",
              "      border-color: transparent;\n",
              "      border-left-color: var(--fill-color);\n",
              "      border-top-color: var(--fill-color);\n",
              "    }\n",
              "    30% {\n",
              "      border-color: transparent;\n",
              "      border-left-color: var(--fill-color);\n",
              "      border-top-color: var(--fill-color);\n",
              "      border-right-color: var(--fill-color);\n",
              "    }\n",
              "    40% {\n",
              "      border-color: transparent;\n",
              "      border-right-color: var(--fill-color);\n",
              "      border-top-color: var(--fill-color);\n",
              "    }\n",
              "    60% {\n",
              "      border-color: transparent;\n",
              "      border-right-color: var(--fill-color);\n",
              "    }\n",
              "    80% {\n",
              "      border-color: transparent;\n",
              "      border-right-color: var(--fill-color);\n",
              "      border-bottom-color: var(--fill-color);\n",
              "    }\n",
              "    90% {\n",
              "      border-color: transparent;\n",
              "      border-bottom-color: var(--fill-color);\n",
              "    }\n",
              "  }\n",
              "</style>\n",
              "\n",
              "      <script>\n",
              "        async function quickchart(key) {\n",
              "          const quickchartButtonEl =\n",
              "            document.querySelector('#' + key + ' button');\n",
              "          quickchartButtonEl.disabled = true;  // To prevent multiple clicks.\n",
              "          quickchartButtonEl.classList.add('colab-df-spinner');\n",
              "          try {\n",
              "            const charts = await google.colab.kernel.invokeFunction(\n",
              "                'suggestCharts', [key], {});\n",
              "          } catch (error) {\n",
              "            console.error('Error during call to suggestCharts:', error);\n",
              "          }\n",
              "          quickchartButtonEl.classList.remove('colab-df-spinner');\n",
              "          quickchartButtonEl.classList.add('colab-df-quickchart-complete');\n",
              "        }\n",
              "        (() => {\n",
              "          let quickchartButtonEl =\n",
              "            document.querySelector('#df-8bacb8a3-f55d-4664-8b4b-e3e2b00da6df button');\n",
              "          quickchartButtonEl.style.display =\n",
              "            google.colab.kernel.accessAllowed ? 'block' : 'none';\n",
              "        })();\n",
              "      </script>\n",
              "    </div>\n",
              "\n",
              "  <div id=\"id_445f9e21-6378-4365-ab7b-5e23580a170f\">\n",
              "    <style>\n",
              "      .colab-df-generate {\n",
              "        background-color: #E8F0FE;\n",
              "        border: none;\n",
              "        border-radius: 50%;\n",
              "        cursor: pointer;\n",
              "        display: none;\n",
              "        fill: #1967D2;\n",
              "        height: 32px;\n",
              "        padding: 0 0 0 0;\n",
              "        width: 32px;\n",
              "      }\n",
              "\n",
              "      .colab-df-generate:hover {\n",
              "        background-color: #E2EBFA;\n",
              "        box-shadow: 0px 1px 2px rgba(60, 64, 67, 0.3), 0px 1px 3px 1px rgba(60, 64, 67, 0.15);\n",
              "        fill: #174EA6;\n",
              "      }\n",
              "\n",
              "      [theme=dark] .colab-df-generate {\n",
              "        background-color: #3B4455;\n",
              "        fill: #D2E3FC;\n",
              "      }\n",
              "\n",
              "      [theme=dark] .colab-df-generate:hover {\n",
              "        background-color: #434B5C;\n",
              "        box-shadow: 0px 1px 3px 1px rgba(0, 0, 0, 0.15);\n",
              "        filter: drop-shadow(0px 1px 2px rgba(0, 0, 0, 0.3));\n",
              "        fill: #FFFFFF;\n",
              "      }\n",
              "    </style>\n",
              "    <button class=\"colab-df-generate\" onclick=\"generateWithVariable('df')\"\n",
              "            title=\"Generate code using this dataframe.\"\n",
              "            style=\"display:none;\">\n",
              "\n",
              "  <svg xmlns=\"http://www.w3.org/2000/svg\" height=\"24px\"viewBox=\"0 0 24 24\"\n",
              "       width=\"24px\">\n",
              "    <path d=\"M7,19H8.4L18.45,9,17,7.55,7,17.6ZM5,21V16.75L18.45,3.32a2,2,0,0,1,2.83,0l1.4,1.43a1.91,1.91,0,0,1,.58,1.4,1.91,1.91,0,0,1-.58,1.4L9.25,21ZM18.45,9,17,7.55Zm-12,3A5.31,5.31,0,0,0,4.9,8.1,5.31,5.31,0,0,0,1,6.5,5.31,5.31,0,0,0,4.9,4.9,5.31,5.31,0,0,0,6.5,1,5.31,5.31,0,0,0,8.1,4.9,5.31,5.31,0,0,0,12,6.5,5.46,5.46,0,0,0,6.5,12Z\"/>\n",
              "  </svg>\n",
              "    </button>\n",
              "    <script>\n",
              "      (() => {\n",
              "      const buttonEl =\n",
              "        document.querySelector('#id_445f9e21-6378-4365-ab7b-5e23580a170f button.colab-df-generate');\n",
              "      buttonEl.style.display =\n",
              "        google.colab.kernel.accessAllowed ? 'block' : 'none';\n",
              "\n",
              "      buttonEl.onclick = () => {\n",
              "        google.colab.notebook.generateWithVariable('df');\n",
              "      }\n",
              "      })();\n",
              "    </script>\n",
              "  </div>\n",
              "\n",
              "    </div>\n",
              "  </div>\n"
            ],
            "application/vnd.google.colaboratory.intrinsic+json": {
              "type": "dataframe",
              "variable_name": "df",
              "summary": "{\n  \"name\": \"df\",\n  \"rows\": 5,\n  \"fields\": [\n    {\n      \"column\": \"Species\",\n      \"properties\": {\n        \"dtype\": \"string\",\n        \"num_unique_values\": 3,\n        \"samples\": [\n          \"cat\",\n          \"dog\",\n          \"bird\"\n        ],\n        \"semantic_type\": \"\",\n        \"description\": \"\"\n      }\n    },\n    {\n      \"column\": \"Age\",\n      \"properties\": {\n        \"dtype\": \"number\",\n        \"std\": 4,\n        \"min\": 8,\n        \"max\": 18,\n        \"num_unique_values\": 4,\n        \"samples\": [\n          11,\n          8,\n          13\n        ],\n        \"semantic_type\": \"\",\n        \"description\": \"\"\n      }\n    },\n    {\n      \"column\": \"Weight\",\n      \"properties\": {\n        \"dtype\": \"number\",\n        \"std\": 23.744788901988578,\n        \"min\": 2.4,\n        \"max\": 64.1,\n        \"num_unique_values\": 5,\n        \"samples\": [\n          32.4,\n          64.1,\n          2.4\n        ],\n        \"semantic_type\": \"\",\n        \"description\": \"\"\n      }\n    }\n  ]\n}"
            }
          },
          "metadata": {},
          "execution_count": 23
        }
      ],
      "source": [
        "df"
      ]
    },
    {
      "cell_type": "code",
      "execution_count": 24,
      "id": "894c6da8",
      "metadata": {
        "id": "894c6da8",
        "outputId": "29e0c3a8-4061-4c5f-ee1f-ad45b5e701e1",
        "colab": {
          "base_uri": "https://localhost:8080/"
        }
      },
      "outputs": [
        {
          "output_type": "stream",
          "name": "stdout",
          "text": [
            "  Species  Age  Weight\n",
            "0     cat   13    13.3\n",
            "1     dog   11    32.4\n",
            "2    bird   18     2.4\n",
            "3     cat   18    19.3\n"
          ]
        }
      ],
      "source": [
        "print(df[df['Age'] > 8])"
      ]
    },
    {
      "cell_type": "code",
      "execution_count": 25,
      "id": "80f2b747",
      "metadata": {
        "id": "80f2b747",
        "outputId": "aff89bae-f480-44a3-ed0c-cae43b53e288",
        "colab": {
          "base_uri": "https://localhost:8080/"
        }
      },
      "outputs": [
        {
          "output_type": "stream",
          "name": "stdout",
          "text": [
            "  Species  Age  Weight\n",
            "1     dog   11    32.4\n"
          ]
        }
      ],
      "source": [
        "print(df[(df['Age'] > 8) & (df['Weight'] > 20)])"
      ]
    },
    {
      "cell_type": "code",
      "execution_count": 26,
      "id": "825c905a",
      "metadata": {
        "id": "825c905a",
        "outputId": "94755b12-58f0-47c9-f28a-b5cd10f88359",
        "colab": {
          "base_uri": "https://localhost:8080/"
        }
      },
      "outputs": [
        {
          "output_type": "stream",
          "name": "stdout",
          "text": [
            "Empty DataFrame\n",
            "Columns: [Species, Age, Weight]\n",
            "Index: []\n"
          ]
        }
      ],
      "source": [
        "print(df[(df['Species'] == 'cat') & (df['Species'] == 'dog')])"
      ]
    },
    {
      "cell_type": "code",
      "execution_count": 28,
      "id": "7ce0c57b",
      "metadata": {
        "id": "7ce0c57b",
        "outputId": "9a104bbb-ea04-426f-9b22-2b95b9f89f9c",
        "colab": {
          "base_uri": "https://localhost:8080/"
        }
      },
      "outputs": [
        {
          "output_type": "stream",
          "name": "stdout",
          "text": [
            "  Species  Age  Weight\n",
            "0     cat   13    13.3\n",
            "1     dog   11    32.4\n",
            "3     cat   18    19.3\n",
            "4     dog    8    64.1\n"
          ]
        }
      ],
      "source": [
        "print(df[(df['Species'] == 'cat') | (df['Species'] == 'dog')])"
      ]
    },
    {
      "cell_type": "markdown",
      "id": "133cdc22",
      "metadata": {
        "id": "133cdc22"
      },
      "source": [
        "## Indexing and Iteration\n",
        "\n",
        "### Accessing Data in DataFrames\n",
        "\n",
        "- Use `.iloc[]` for integer position-based indexing (e.g., df.iloc[0, 1] for first row, second column)\n",
        "- Use `.loc[]` for label-based indexing (e.g., df.loc['row_label', 'column_name'])\n",
        "\n",
        "- Example:\n",
        "  - df.iloc[0, 1] gets value in first row, second column regardless of labels\n",
        "  - df.loc['A', 'price'] gets value where index='A' and column='price'\n"
      ]
    },
    {
      "cell_type": "code",
      "execution_count": null,
      "id": "79bea91b",
      "metadata": {
        "id": "79bea91b"
      },
      "outputs": [],
      "source": [
        "df"
      ]
    },
    {
      "cell_type": "code",
      "execution_count": null,
      "id": "342650ce",
      "metadata": {
        "id": "342650ce"
      },
      "outputs": [],
      "source": [
        "print(\"First row, second column using iloc:\")\n",
        "print(df.iloc[0, 1])"
      ]
    },
    {
      "cell_type": "code",
      "execution_count": null,
      "id": "5568d756",
      "metadata": {
        "id": "5568d756"
      },
      "outputs": [],
      "source": [
        "print(\"Accessing row 0, column 'B' using loc:\")\n",
        "print(df.loc[0, 'Weight'])"
      ]
    },
    {
      "cell_type": "code",
      "execution_count": null,
      "id": "1ec989fc",
      "metadata": {
        "id": "1ec989fc"
      },
      "outputs": [],
      "source": [
        "print(df.iloc[0:4:2,2])"
      ]
    },
    {
      "cell_type": "markdown",
      "id": "a46747b3",
      "metadata": {
        "id": "a46747b3"
      },
      "source": [
        "## Transformation Matrices in Homogeneous Coordinates\n",
        "\n",
        "Transformation matrices allow us to perform geometric operations (rotation, scaling, translation) on 2D shapes using matrix multiplication. In homogeneous coordinates, we represent 2D points as 3D vectors [x, y, 1], which enables us to express all transformations—including translation—as matrix multiplications.\n",
        "\n",
        "**Important Notes:**\n",
        "\n",
        "- Matrix multiplication order matters! Transformations are applied **right to left**\n",
        "- To rotate around a point (cx, cy) other than the origin: translate to origin → rotate → translate back\n",
        "- Multiple transformations can be combined into a single matrix by multiplying them together\n"
      ]
    },
    {
      "cell_type": "markdown",
      "id": "1cb1f60d",
      "metadata": {
        "id": "1cb1f60d"
      },
      "source": [
        "<center><img  src=\"https://github.com/uf-bme/bme3053c/raw/main/files/2D_affine_transformation_matrix.svg\" alt='Matrix Transformations'/></center>\n"
      ]
    },
    {
      "cell_type": "markdown",
      "id": "7c5d9fd0",
      "metadata": {
        "id": "7c5d9fd0"
      },
      "source": [
        "### Example: Rotation + Scaling + Translation\n",
        "\n",
        "We can also combine rotation, scaling, and translation in one step by multiplying their respective matrices together:\n",
        "\n",
        "$$Combined=T⋅S⋅R(θ)$$\n",
        "\n",
        "This order applies the rotation first, then scaling, and finally translation.\n"
      ]
    },
    {
      "cell_type": "code",
      "execution_count": null,
      "id": "b29727a6",
      "metadata": {
        "id": "b29727a6"
      },
      "outputs": [],
      "source": [
        "import numpy as np\n",
        "\n",
        "import matplotlib.pyplot as plt\n",
        "\n",
        "# Enable inline plotting\n",
        "%matplotlib inline\n",
        "\n",
        "def generate_star(center=(0, 0), num_points=5, outer_radius=1, inner_radius=0.5,homogeneous=False):\n",
        "    '''\n",
        "    This function generates the coordinates of a star shape based on the specified number of points,\n",
        "    outer radius, inner radius, and center coordinates. The star is created by alternating between the\n",
        "    outer and inner radii at calculated angles, resulting in a visually appealing star pattern.\n",
        "    '''\n",
        "    angles = np.linspace(np.pi/2, 5*np.pi/2, num_points*2, endpoint=False)\n",
        "    radii = np.array([outer_radius, inner_radius] * num_points)\n",
        "    x = radii * np.cos(angles) + center[0]\n",
        "    y = radii * np.sin(angles) + center[1]\n",
        "    return np.column_stack((x, y)) if not homogeneous else np.column_stack((x, y, np.ones(num_points*2)))\n",
        "\n",
        "def plot_star(ax, star, title,global_view):\n",
        "    ax.plot(star[:, 0], star[:, 1], 'b-')\n",
        "    ax.plot([star[-1, 0], star[0, 0]], [star[-1, 1], star[0, 1]], 'b-')  # Connect last to first\n",
        "    ax.set_title(title)\n",
        "    ax.axis('equal')\n",
        "    if global_view:\n",
        "      ax.set_xlim(-10,10)\n",
        "      ax.set_ylim(-10,10)\n",
        "      ax.axhline(0, color='black')\n",
        "      ax.axvline(0, color='black')\n",
        "\n",
        "    ax.grid(True)  # Add grid\n",
        "\n",
        "    star_center = np.mean(star, axis=0)\n",
        "    arrow_start = star_center\n",
        "\n",
        "    vector_to_point = star[0] - star_center\n",
        "    direction = vector_to_point/np.linalg.norm(vector_to_point)  # Normalize the direction vector\n",
        "    arrow_length = np.linalg.norm(vector_to_point)/2\n",
        "    arrow_end = star_center + (arrow_length) * direction\n",
        "    headwidth=6 if global_view else 8\n",
        "    width = 1 if global_view else 2\n",
        "    ###########################################\n",
        "    ax.annotate('', xy=arrow_end, xytext=arrow_start,\n",
        "                arrowprops=dict(facecolor='green', shrink=0.05, width=width, headwidth=headwidth))\n",
        "\n",
        "def plot_stars(stars,global_view=False):\n",
        "    if len(stars) == 1 or not isinstance(stars, list):\n",
        "        print(\"There must be a list of multiple stars to plot\")\n",
        "        return\n",
        "    num_stars = len(stars)\n",
        "    fig, axs = plt.subplots(1, num_stars, figsize=(10, 5))\n",
        "    for i, star in enumerate(stars):\n",
        "        plot_star(axs[i], star[:,:2], f'Star {i+1}',global_view)\n",
        "\n",
        "def rotate(angle_degrees):\n",
        "    angle_radians = np.radians(angle_degrees)\n",
        "    cos_theta = np.cos(angle_radians)\n",
        "    sin_theta = np.sin(angle_radians)\n",
        "    return np.array([\n",
        "        [cos_theta, -sin_theta,0],\n",
        "        [sin_theta, cos_theta,0],\n",
        "        [0,0,1],\n",
        "    ])\n",
        "\n",
        "\n",
        "def scale(sx,sy):\n",
        "    return np.array([\n",
        "        [sx, 0,0],\n",
        "        [0, sy,0],\n",
        "        [0,0,1],\n",
        "    ])\n",
        "\n",
        "def translate(tx, ty):\n",
        "    return np.array([\n",
        "        [1, 0, tx],\n",
        "        [0, 1, ty],\n",
        "        [0, 0, 1]\n",
        "    ])"
      ]
    },
    {
      "cell_type": "code",
      "execution_count": null,
      "id": "bf12b97a",
      "metadata": {
        "id": "bf12b97a"
      },
      "outputs": [],
      "source": [
        "star=generate_star(homogeneous=True)\n",
        "\n",
        "combined_transform =  translate(1,2) @scale(2,2)@ rotate(45)\n",
        "\n",
        "transformed_star = (combined_transform @ star.T).T\n",
        "\n",
        "plot_stars([star,transformed_star],global_view=True)"
      ]
    },
    {
      "cell_type": "code",
      "execution_count": null,
      "id": "327b8868",
      "metadata": {
        "id": "327b8868"
      },
      "outputs": [],
      "source": [
        "star=generate_star(center=(1,1),homogeneous=True)\n",
        "\n",
        "combined_transform =  translate(1,2) @ rotate(-45)@translate(-1,-1)\n",
        "\n",
        "transformed_star = (combined_transform @ star.T).T\n",
        "\n",
        "plot_stars([star,transformed_star],global_view=True)"
      ]
    },
    {
      "cell_type": "code",
      "execution_count": null,
      "id": "66d4f5ef",
      "metadata": {
        "id": "66d4f5ef"
      },
      "outputs": [],
      "source": [
        "star=generate_star(center=(-4,-4),homogeneous=True)\n",
        "\n",
        "combined_transform = rotate(-180)\n",
        "\n",
        "transformed_star = (combined_transform @ star.T).T\n",
        "\n",
        "plot_stars([star,transformed_star],global_view=True)"
      ]
    },
    {
      "cell_type": "markdown",
      "id": "fe034700",
      "metadata": {
        "id": "fe034700"
      },
      "source": [
        "## **Good luck!**\n"
      ]
    }
  ],
  "metadata": {
    "colab": {
      "provenance": [],
      "include_colab_link": true
    },
    "kernelspec": {
      "display_name": ".venv",
      "language": "python",
      "name": "python3"
    },
    "language_info": {
      "codemirror_mode": {
        "name": "ipython",
        "version": 3
      },
      "file_extension": ".py",
      "mimetype": "text/x-python",
      "name": "python",
      "nbconvert_exporter": "python",
      "pygments_lexer": "ipython3",
      "version": "3.10.12"
    },
    "name": "BME3053C-midterm-study-guide-alternate"
  },
  "nbformat": 4,
  "nbformat_minor": 5
}