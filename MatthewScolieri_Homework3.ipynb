{
  "nbformat": 4,
  "nbformat_minor": 0,
  "metadata": {
    "colab": {
      "provenance": [],
      "include_colab_link": true
    },
    "kernelspec": {
      "name": "python3",
      "display_name": "Python 3"
    },
    "language_info": {
      "name": "python"
    }
  },
  "cells": [
    {
      "cell_type": "markdown",
      "metadata": {
        "id": "view-in-github",
        "colab_type": "text"
      },
      "source": [
        "<a href=\"https://colab.research.google.com/github/mattscolieri/BME3053C-Fall-2025/blob/main/MatthewScolieri_Homework3.ipynb\" target=\"_parent\"><img src=\"https://colab.research.google.com/assets/colab-badge.svg\" alt=\"Open In Colab\"/></a>"
      ]
    },
    {
      "cell_type": "code",
      "execution_count": null,
      "metadata": {
        "colab": {
          "base_uri": "https://localhost:8080/"
        },
        "id": "ERYXa0mj6RiB",
        "outputId": "06da6299-3a77-4b4d-e61a-3ea9a1928bd1"
      },
      "outputs": [
        {
          "output_type": "stream",
          "name": "stdout",
          "text": [
            "Total number of peaks: 26\n"
          ]
        }
      ],
      "source": [
        "import math\n",
        "import random\n",
        "ppg_signal = [1000 + 100 * math.sin(0.1 * x) + random.randint(-20, 20) for x in range(100)]\n",
        "\n",
        "def identify_peaks(ppg_signal):\n",
        "    peak_count= 0\n",
        "    for i in range(1,len(ppg_signal)-1):\n",
        "        if ppg_signal[i] > ppg_signal[i-1] and ppg_signal[i] > ppg_signal[i+1]:\n",
        "            peak_count+=1\n",
        "    print(\"Total number of peaks:\",peak_count)\n",
        "identify_peaks(ppg_signal)"
      ]
    }
  ]
}