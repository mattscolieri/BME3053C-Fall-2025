{
  "cells": [
    {
      "cell_type": "markdown",
      "id": "044dfd43",
      "metadata": {
        "id": "044dfd43"
      },
      "source": [
        "# Python If Statements Interactive Explorer\n",
        "\n",
        "This notebook contains an interactive explorer for learning Python if statements. You'll be able to adjust values using sliders and see how different conditions affect if statement execution in real-time.\n",
        "\n",
        "---\n",
        "\n",
        "### Exercise Link: [![Open In Colab](https://colab.research.google.com/assets/colab-badge.svg)](https://colab.research.google.com/github/uf-bme/BME3053C-Fall-2025/blob/main/interactive-exercises/If_Statements.ipynb)\n",
        "\n",
        "---\n",
        "\n",
        "## Learning Objectives\n",
        "- Understand simple if statements\n",
        "- Learn if-else constructs\n",
        "- Master if-elif-else chains\n",
        "- Practice nested if statements\n",
        "- Work with complex conditions using `and`, `or`, and `not`"
      ]
    },
    {
      "cell_type": "code",
      "execution_count": null,
      "id": "b26a0ddb",
      "metadata": {
        "id": "b26a0ddb"
      },
      "outputs": [],
      "source": [
        "import ipywidgets as widgets\n",
        "from IPython.display import display, HTML\n",
        "import matplotlib.pyplot as plt"
      ]
    },
    {
      "cell_type": "code",
      "execution_count": null,
      "id": "8ad9f1fa",
      "metadata": {
        "id": "8ad9f1fa",
        "outputId": "e167b7fa-6a38-45e8-8b13-2e88f0ac7e47",
        "colab": {
          "referenced_widgets": [
            "ec721b32b4ef4ebabf3dc8c8fadc9a11"
          ]
        }
      },
      "outputs": [
        {
          "data": {
            "application/vnd.jupyter.widget-view+json": {
              "model_id": "ec721b32b4ef4ebabf3dc8c8fadc9a11",
              "version_major": 2,
              "version_minor": 0
            },
            "text/plain": [
              "VBox(children=(HTML(value='<h3>🔵 Example 1: Simple If Statement</h3>'), HTML(value=\"<p style='color: #666;'>Ad…"
            ]
          },
          "metadata": {},
          "output_type": "display_data"
        }
      ],
      "source": [
        "# Example 1: Simple If Statement\n",
        "def create_example1_ui():\n",
        "    # Create widgets for this example\n",
        "    number_input = widgets.IntSlider(\n",
        "        value=5, min=-10, max=20, step=1,\n",
        "        description='Number:', style={'description_width': 'initial'}\n",
        "    )\n",
        "    output = widgets.Output()\n",
        "\n",
        "    def update_display(*args):\n",
        "        with output:\n",
        "            output.clear_output()\n",
        "            num = number_input.value\n",
        "\n",
        "            html_content = \"<div style='font-family: monospace; font-size: 14px;'>\"\n",
        "            html_content += \"<div style='background-color: #f9f9f9; padding: 10px; border-left: 4px solid #2196f3; margin-bottom: 10px;'>\"\n",
        "            html_content += \"<h4>1. Simple If Statement</h4>\"\n",
        "            html_content += f\"<p><strong>num = {num}</strong></p>\"\n",
        "            html_content += f\"<code>if num > 0:<br>&nbsp;&nbsp;&nbsp;&nbsp;print('Number is positive')</code><br>\"\n",
        "            if num > 0:\n",
        "                html_content += \"<span style='color: #4caf50;'>✓ Condition TRUE: Number is positive</span>\"\n",
        "            else:\n",
        "                html_content += \"<span style='color: #f44336;'>✗ Condition FALSE: Code block not executed</span>\"\n",
        "            html_content += \"</div></div>\"\n",
        "            display(HTML(html_content))\n",
        "\n",
        "    # Link widget to update function\n",
        "    number_input.observe(update_display, 'value')\n",
        "\n",
        "    # Display the interface\n",
        "    display(widgets.VBox([\n",
        "        widgets.HTML(\"<h3>🔵 Example 1: Simple If Statement</h3>\"),\n",
        "        widgets.HTML(\"<p style='color: #666;'>Adjust the number to see how the if statement works:</p>\"),\n",
        "        number_input,\n",
        "        output\n",
        "    ]))\n",
        "\n",
        "    # Initial update\n",
        "    update_display()\n",
        "\n",
        "# Run Example 1\n",
        "create_example1_ui()"
      ]
    },
    {
      "cell_type": "code",
      "execution_count": null,
      "id": "0d401b55",
      "metadata": {
        "id": "0d401b55",
        "outputId": "faa1ac3c-a5b9-4518-d261-2bb31ba2c320",
        "colab": {
          "referenced_widgets": [
            "c5547f0ab5784b4c9128381d07774eed"
          ]
        }
      },
      "outputs": [
        {
          "data": {
            "application/vnd.jupyter.widget-view+json": {
              "model_id": "c5547f0ab5784b4c9128381d07774eed",
              "version_major": 2,
              "version_minor": 0
            },
            "text/plain": [
              "VBox(children=(HTML(value='<h3>🟠 Example 2: If-Else Statement</h3>'), HTML(value=\"<p style='color: #666;'>Adju…"
            ]
          },
          "metadata": {},
          "output_type": "display_data"
        }
      ],
      "source": [
        "# Example 2: If-Else Statement\n",
        "def create_example2_ui():\n",
        "    # Create widgets for this example\n",
        "    age_input = widgets.IntSlider(\n",
        "        value=18, min=0, max=100, step=1,\n",
        "        description='Age:', style={'description_width': 'initial'}\n",
        "    )\n",
        "    output = widgets.Output()\n",
        "\n",
        "    def update_display(*args):\n",
        "        with output:\n",
        "            output.clear_output()\n",
        "            age = age_input.value\n",
        "\n",
        "            html_content = \"<div style='font-family: monospace; font-size: 14px;'>\"\n",
        "            html_content += \"<div style='background-color: #f9f9f9; padding: 10px; border-left: 4px solid #ff9800; margin-bottom: 10px;'>\"\n",
        "            html_content += \"<h4>2. If-Else Statement</h4>\"\n",
        "            html_content += f\"<p><strong>age = {age}</strong></p>\"\n",
        "            html_content += f\"<code>if age >= 18:<br>&nbsp;&nbsp;&nbsp;&nbsp;print('Adult')<br>else:<br>&nbsp;&nbsp;&nbsp;&nbsp;print('Minor')</code><br>\"\n",
        "            if age >= 18:\n",
        "                html_content += \"<span style='color: #4caf50;'>✓ Result: Adult</span>\"\n",
        "            else:\n",
        "                html_content += \"<span style='color: #4caf50;'>✓ Result: Minor</span>\"\n",
        "            html_content += \"</div></div>\"\n",
        "            display(HTML(html_content))\n",
        "\n",
        "    # Link widget to update function\n",
        "    age_input.observe(update_display, 'value')\n",
        "\n",
        "    # Display the interface\n",
        "    display(widgets.VBox([\n",
        "        widgets.HTML(\"<h3>🟠 Example 2: If-Else Statement</h3>\"),\n",
        "        widgets.HTML(\"<p style='color: #666;'>Adjust the age to see if-else in action:</p>\"),\n",
        "        age_input,\n",
        "        output\n",
        "    ]))\n",
        "\n",
        "    # Initial update\n",
        "    update_display()\n",
        "\n",
        "# Run Example 2\n",
        "create_example2_ui()"
      ]
    },
    {
      "cell_type": "code",
      "execution_count": 3,
      "id": "4670e5c0",
      "metadata": {
        "id": "4670e5c0",
        "outputId": "aef6f078-585e-46c5-b53f-f2fc02e9a372",
        "colab": {
          "base_uri": "https://localhost:8080/",
          "height": 297
        }
      },
      "outputs": [
        {
          "output_type": "error",
          "ename": "NameError",
          "evalue": "name 'widgets' is not defined",
          "traceback": [
            "\u001b[0;31m---------------------------------------------------------------------------\u001b[0m",
            "\u001b[0;31mNameError\u001b[0m                                 Traceback (most recent call last)",
            "\u001b[0;32m/tmp/ipython-input-2321357358.py\u001b[0m in \u001b[0;36m<cell line: 0>\u001b[0;34m()\u001b[0m\n\u001b[1;32m     44\u001b[0m \u001b[0;34m\u001b[0m\u001b[0m\n\u001b[1;32m     45\u001b[0m \u001b[0;31m# Run Example 3\u001b[0m\u001b[0;34m\u001b[0m\u001b[0;34m\u001b[0m\u001b[0m\n\u001b[0;32m---> 46\u001b[0;31m \u001b[0mcreate_example3_ui\u001b[0m\u001b[0;34m(\u001b[0m\u001b[0;34m)\u001b[0m\u001b[0;34m\u001b[0m\u001b[0;34m\u001b[0m\u001b[0m\n\u001b[0m",
            "\u001b[0;32m/tmp/ipython-input-2321357358.py\u001b[0m in \u001b[0;36mcreate_example3_ui\u001b[0;34m()\u001b[0m\n\u001b[1;32m      2\u001b[0m \u001b[0;32mdef\u001b[0m \u001b[0mcreate_example3_ui\u001b[0m\u001b[0;34m(\u001b[0m\u001b[0;34m)\u001b[0m\u001b[0;34m:\u001b[0m\u001b[0;34m\u001b[0m\u001b[0;34m\u001b[0m\u001b[0m\n\u001b[1;32m      3\u001b[0m     \u001b[0;31m# Create widgets for this example\u001b[0m\u001b[0;34m\u001b[0m\u001b[0;34m\u001b[0m\u001b[0m\n\u001b[0;32m----> 4\u001b[0;31m     grade_input = widgets.IntSlider(\n\u001b[0m\u001b[1;32m      5\u001b[0m         \u001b[0mvalue\u001b[0m\u001b[0;34m=\u001b[0m\u001b[0;36m85\u001b[0m\u001b[0;34m,\u001b[0m \u001b[0mmin\u001b[0m\u001b[0;34m=\u001b[0m\u001b[0;36m0\u001b[0m\u001b[0;34m,\u001b[0m \u001b[0mmax\u001b[0m\u001b[0;34m=\u001b[0m\u001b[0;36m100\u001b[0m\u001b[0;34m,\u001b[0m \u001b[0mstep\u001b[0m\u001b[0;34m=\u001b[0m\u001b[0;36m1\u001b[0m\u001b[0;34m,\u001b[0m\u001b[0;34m\u001b[0m\u001b[0;34m\u001b[0m\u001b[0m\n\u001b[1;32m      6\u001b[0m         \u001b[0mdescription\u001b[0m\u001b[0;34m=\u001b[0m\u001b[0;34m'Grade:'\u001b[0m\u001b[0;34m,\u001b[0m \u001b[0mstyle\u001b[0m\u001b[0;34m=\u001b[0m\u001b[0;34m{\u001b[0m\u001b[0;34m'description_width'\u001b[0m\u001b[0;34m:\u001b[0m \u001b[0;34m'initial'\u001b[0m\u001b[0;34m}\u001b[0m\u001b[0;34m\u001b[0m\u001b[0;34m\u001b[0m\u001b[0m\n",
            "\u001b[0;31mNameError\u001b[0m: name 'widgets' is not defined"
          ]
        }
      ],
      "source": [
        "# Example 3: If-Elif-Else Statement\n",
        "def create_example3_ui():\n",
        "    # Create widgets for this example\n",
        "    grade_input = widgets.IntSlider(\n",
        "        value=85, min=0, max=100, step=1,\n",
        "        description='Grade:', style={'description_width': 'initial'}\n",
        "    )\n",
        "    output = widgets.Output()\n",
        "\n",
        "    def update_display(*args):\n",
        "        with output:\n",
        "            output.clear_output()\n",
        "            grade = grade_input.value\n",
        "\n",
        "            html_content = \"<div style='font-family: monospace; font-size: 14px;'>\"\n",
        "            html_content += \"<div style='background-color: #f9f9f9; padding: 10px; border-left: 4px solid #9c27b0; margin-bottom: 10px;'>\"\n",
        "            html_content += \"<h4>3. If-Elif-Else Statement</h4>\"\n",
        "            html_content += f\"<p><strong>grade = {grade}</strong></p>\"\n",
        "            html_content += f\"<code>if grade >= 90:<br>&nbsp;&nbsp;&nbsp;&nbsp;print('A')<br>elif grade >= 80:<br>&nbsp;&nbsp;&nbsp;&nbsp;print('B')<br>elif grade >= 70:<br>&nbsp;&nbsp;&nbsp;&nbsp;print('C')<br>else:<br>&nbsp;&nbsp;&nbsp;&nbsp;print('F')</code><br>\"\n",
        "            if grade >= 90:\n",
        "                html_content += \"<span style='color: #4caf50;'>✓ Grade: A (Excellent!)</span>\"\n",
        "            elif grade >= 80:\n",
        "                html_content += \"<span style='color: #4caf50;'>✓ Grade: B (Good!)</span>\"\n",
        "            elif grade >= 70:\n",
        "                html_content += \"<span style='color: #4caf50;'>✓ Grade: C (Average)</span>\"\n",
        "            else:\n",
        "                html_content += \"<span style='color: #4caf50;'>✓ Grade: F (Needs Improvement)</span>\"\n",
        "            html_content += \"</div></div>\"\n",
        "            display(HTML(html_content))\n",
        "\n",
        "    # Link widget to update function\n",
        "    grade_input.observe(update_display, 'value')\n",
        "\n",
        "    # Display the interface\n",
        "    display(widgets.VBox([\n",
        "        widgets.HTML(\"<h3>🟣 Example 3: If-Elif-Else Statement</h3>\"),\n",
        "        widgets.HTML(\"<p style='color: #666;'>Adjust the grade to see multiple conditions:</p>\"),\n",
        "        grade_input,\n",
        "        output\n",
        "    ]))\n",
        "\n",
        "    # Initial update\n",
        "    update_display()\n",
        "\n",
        "# Run Example 3\n",
        "create_example3_ui()"
      ]
    },
    {
      "cell_type": "code",
      "execution_count": null,
      "id": "3dde350b",
      "metadata": {
        "id": "3dde350b"
      },
      "outputs": [],
      "source": [
        "# Example 4: Nested If Statement\n",
        "def create_example4_ui():\n",
        "    # Create widgets for this example\n",
        "    weather_input = widgets.Dropdown(\n",
        "        options=['sunny', 'rainy', 'cloudy', 'snowy'],\n",
        "        value='sunny',\n",
        "        description='Weather:'\n",
        "    )\n",
        "    age_input = widgets.IntSlider(\n",
        "        value=18, min=0, max=100, step=1,\n",
        "        description='Age:', style={'description_width': 'initial'}\n",
        "    )\n",
        "    output = widgets.Output()\n",
        "\n",
        "    def update_display(*args):\n",
        "        with output:\n",
        "            output.clear_output()\n",
        "            weather = weather_input.value\n",
        "            age = age_input.value\n",
        "\n",
        "            html_content = \"<div style='font-family: monospace; font-size: 14px;'>\"\n",
        "            html_content += \"<div style='background-color: #f9f9f9; padding: 10px; border-left: 4px solid #e91e63; margin-bottom: 10px;'>\"\n",
        "            html_content += \"<h4>4. Nested If Statement</h4>\"\n",
        "            html_content += f\"<p><strong>weather = '{weather}', age = {age}</strong></p>\"\n",
        "            html_content += f\"<code>if weather == 'sunny':<br>&nbsp;&nbsp;&nbsp;&nbsp;if age >= 16:<br>&nbsp;&nbsp;&nbsp;&nbsp;&nbsp;&nbsp;&nbsp;&nbsp;print('Go drive to the beach!')<br>&nbsp;&nbsp;&nbsp;&nbsp;else:<br>&nbsp;&nbsp;&nbsp;&nbsp;&nbsp;&nbsp;&nbsp;&nbsp;print('Go walk to the park!')<br>else:<br>&nbsp;&nbsp;&nbsp;&nbsp;print('Stay inside!')</code><br>\"\n",
        "            if weather == 'sunny':\n",
        "                if age >= 16:\n",
        "                    html_content += \"<span style='color: #4caf50;'>✓ Result: Go drive to the beach!</span>\"\n",
        "                else:\n",
        "                    html_content += \"<span style='color: #4caf50;'>✓ Result: Go walk to the park!</span>\"\n",
        "            else:\n",
        "                html_content += \"<span style='color: #4caf50;'>✓ Result: Stay inside!</span>\"\n",
        "            html_content += \"</div></div>\"\n",
        "            display(HTML(html_content))\n",
        "\n",
        "    # Link widgets to update function\n",
        "    weather_input.observe(update_display, 'value')\n",
        "    age_input.observe(update_display, 'value')\n",
        "\n",
        "    # Display the interface\n",
        "    display(widgets.VBox([\n",
        "        widgets.HTML(\"<h3>🔴 Example 4: Nested If Statement</h3>\"),\n",
        "        widgets.HTML(\"<p style='color: #666;'>Adjust the weather and age to see nested conditions:</p>\"),\n",
        "        weather_input,\n",
        "        age_input,\n",
        "        output\n",
        "    ]))\n",
        "\n",
        "    # Initial update\n",
        "    update_display()\n",
        "\n",
        "# Run Example 4\n",
        "create_example4_ui()"
      ]
    },
    {
      "cell_type": "code",
      "execution_count": null,
      "id": "6090b355",
      "metadata": {
        "id": "6090b355"
      },
      "outputs": [],
      "source": [
        "# Example 5: Complex Conditions\n",
        "def create_example5_ui():\n",
        "    # Create widgets for this example\n",
        "    age_input = widgets.IntSlider(\n",
        "        value=18, min=0, max=100, step=1,\n",
        "        description='Age:', style={'description_width': 'initial'}\n",
        "    )\n",
        "    grade_input = widgets.IntSlider(\n",
        "        value=85, min=0, max=100, step=1,\n",
        "        description='Grade:', style={'description_width': 'initial'}\n",
        "    )\n",
        "    output = widgets.Output()\n",
        "\n",
        "    def update_display(*args):\n",
        "        with output:\n",
        "            output.clear_output()\n",
        "            age = age_input.value\n",
        "            grade = grade_input.value\n",
        "\n",
        "            html_content = \"<div style='font-family: monospace; font-size: 14px;'>\"\n",
        "            html_content += \"<div style='background-color: #f9f9f9; padding: 10px; border-left: 4px solid #607d8b; margin-bottom: 10px;'>\"\n",
        "            html_content += \"<h4>5. Complex Conditions (and, or, not)</h4>\"\n",
        "            html_content += f\"<p><strong>age = {age}, grade = {grade}</strong></p>\"\n",
        "            html_content += f\"<code>if age >= 18 and grade >= 70:<br>&nbsp;&nbsp;&nbsp;&nbsp;print('Eligible for college')<br>elif age >= 16 or grade >= 90:<br>&nbsp;&nbsp;&nbsp;&nbsp;print('Special consideration')<br>else:<br>&nbsp;&nbsp;&nbsp;&nbsp;print('Not eligible')</code><br>\"\n",
        "            if age >= 18 and grade >= 70:\n",
        "                html_content += \"<span style='color: #4caf50;'>✓ Result: Eligible for college</span>\"\n",
        "            elif age >= 16 or grade >= 90:\n",
        "                html_content += \"<span style='color: #4caf50;'>✓ Result: Special consideration</span>\"\n",
        "            else:\n",
        "                html_content += \"<span style='color: #4caf50;'>✓ Result: Not eligible</span>\"\n",
        "            html_content += \"</div>\"\n",
        "\n",
        "            # Learning tips\n",
        "            html_content += \"<div style='background-color: #fff3e0; padding: 10px; border-radius: 5px; margin-top: 15px;'>\"\n",
        "            html_content += \"<h4>💡 Key Concepts:</h4>\"\n",
        "            html_content += \"<ul>\"\n",
        "            html_content += \"<li><strong>if:</strong> Executes code block only if condition is True</li>\"\n",
        "            html_content += \"<li><strong>elif:</strong> Checks additional conditions if previous ones were False</li>\"\n",
        "            html_content += \"<li><strong>else:</strong> Executes if all previous conditions were False</li>\"\n",
        "            html_content += \"<li><strong>and:</strong> Both conditions must be True</li>\"\n",
        "            html_content += \"<li><strong>or:</strong> At least one condition must be True</li>\"\n",
        "            html_content += \"<li><strong>not:</strong> Reverses the boolean value</li>\"\n",
        "            html_content += \"</ul>\"\n",
        "            html_content += \"</div>\"\n",
        "            html_content += \"</div>\"\n",
        "            display(HTML(html_content))\n",
        "\n",
        "    # Link widgets to update function\n",
        "    age_input.observe(update_display, 'value')\n",
        "    grade_input.observe(update_display, 'value')\n",
        "\n",
        "    # Display the interface\n",
        "    display(widgets.VBox([\n",
        "        widgets.HTML(\"<h3>⚫ Example 5: Complex Conditions</h3>\"),\n",
        "        widgets.HTML(\"<p style='color: #666;'>Adjust age and grade to see complex logical operations:</p>\"),\n",
        "        age_input,\n",
        "        grade_input,\n",
        "        output\n",
        "    ]))\n",
        "\n",
        "    # Initial update\n",
        "    update_display()\n",
        "\n",
        "# Run Example 5\n",
        "create_example5_ui()"
      ]
    }
  ],
  "metadata": {
    "kernelspec": {
      "display_name": ".venv",
      "language": "python",
      "name": "python3"
    },
    "language_info": {
      "codemirror_mode": {
        "name": "ipython",
        "version": 3
      },
      "file_extension": ".py",
      "mimetype": "text/x-python",
      "name": "python",
      "nbconvert_exporter": "python",
      "pygments_lexer": "ipython3",
      "version": "3.10.12"
    },
    "colab": {
      "provenance": []
    }
  },
  "nbformat": 4,
  "nbformat_minor": 5
}