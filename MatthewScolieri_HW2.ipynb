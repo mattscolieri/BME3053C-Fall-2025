{
  "nbformat": 4,
  "nbformat_minor": 0,
  "metadata": {
    "colab": {
      "provenance": [],
      "include_colab_link": true
    },
    "kernelspec": {
      "name": "python3",
      "display_name": "Python 3"
    },
    "language_info": {
      "name": "python"
    }
  },
  "cells": [
    {
      "cell_type": "markdown",
      "metadata": {
        "id": "view-in-github",
        "colab_type": "text"
      },
      "source": [
        "<a href=\"https://colab.research.google.com/github/mattscolieri/BME3053C-Fall-2025/blob/main/MatthewScolieri_HW2.ipynb\" target=\"_parent\"><img src=\"https://colab.research.google.com/assets/colab-badge.svg\" alt=\"Open In Colab\"/></a>"
      ]
    },
    {
      "cell_type": "code",
      "execution_count": 2,
      "metadata": {
        "colab": {
          "base_uri": "https://localhost:8080/"
        },
        "id": "gv9reKX3SUQQ",
        "outputId": "99b760a4-9ef2-441b-c6d3-99aa4383aa96"
      },
      "outputs": [
        {
          "output_type": "stream",
          "name": "stdout",
          "text": [
            "Normalized Blood Pressure Readings: [0.0, 0.32075471698113206, 0.5849056603773585, 0.05660377358490566, 0.7924528301886793, 1.0, 0.1320754716981132, 0.6415094339622641]\n"
          ]
        }
      ],
      "source": [
        "#Matthew Scolieri Homework 2\n",
        "bp_readings = [120, 137, 151, 123, 162, 173, 127, 154]\n",
        "def normalize_bp_readings(bp_readings):\n",
        "    min_value = min(bp_readings)\n",
        "    max_value = max(bp_readings)\n",
        "    normalized_values = []\n",
        "    for x in bp_readings:\n",
        "        normalized_value = (x - min_value)/(max_value - min_value)\n",
        "        normalized_values.append(normalized_value)\n",
        "    return normalized_values\n",
        "\n",
        "normalized_bp_readings = normalize_bp_readings(bp_readings)\n",
        "print(\"Normalized Blood Pressure Readings:\", normalized_bp_readings)"
      ]
    }
  ]
}